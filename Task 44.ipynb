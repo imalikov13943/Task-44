{
 "cells": [
  {
   "cell_type": "code",
   "execution_count": 2,
   "metadata": {},
   "outputs": [
    {
     "name": "stdout",
     "output_type": "stream",
     "text": [
      "Исходный DataFrame:\n",
      "  whoAmI\n",
      "0  human\n",
      "1  robot\n",
      "2  human\n",
      "3  human\n",
      "4  human\n",
      "\n",
      "DataFrame в one hot виде:\n",
      "   robot  human\n",
      "0      0      1\n",
      "1      1      0\n",
      "2      0      1\n",
      "3      0      1\n",
      "4      0      1\n"
     ]
    }
   ],
   "source": [
    "import pandas as pd\n",
    "import random\n",
    "\n",
    "lst = ['robot'] * 10\n",
    "lst += ['human'] * 10\n",
    "random.shuffle(lst)\n",
    "data = pd.DataFrame({'whoAmI': lst})\n",
    "print(\"Исходный DataFrame:\")\n",
    "print(data.head())\n",
    "\n",
    "categories = set(data['whoAmI'])\n",
    "one_hot_data = pd.DataFrame()\n",
    "for category in categories:\n",
    "    one_hot_data[category] = (data['whoAmI'] == category).astype(int)\n",
    "\n",
    "print(\"\\nDataFrame в one hot виде:\")\n",
    "print(one_hot_data.head())\n"
   ]
  }
 ],
 "metadata": {
  "kernelspec": {
   "display_name": "Python 3",
   "language": "python",
   "name": "python3"
  },
  "language_info": {
   "codemirror_mode": {
    "name": "ipython",
    "version": 3
   },
   "file_extension": ".py",
   "mimetype": "text/x-python",
   "name": "python",
   "nbconvert_exporter": "python",
   "pygments_lexer": "ipython3",
   "version": "3.9.6"
  }
 },
 "nbformat": 4,
 "nbformat_minor": 2
}
